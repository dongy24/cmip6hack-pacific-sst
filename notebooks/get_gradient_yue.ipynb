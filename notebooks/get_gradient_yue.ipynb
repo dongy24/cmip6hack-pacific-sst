{
 "cells": [
  {
   "cell_type": "markdown",
   "metadata": {},
   "source": [
    "# Compute Zonal and Meridional SST gradients in CMIP6 historical runs for one ensemble one model"
   ]
  },
  {
   "cell_type": "code",
   "execution_count": 5,
   "metadata": {},
   "outputs": [
    {
     "name": "stderr",
     "output_type": "stream",
     "text": [
      "/ncar/usr/jupyterhub/envs/cmip6-201910a/lib/python3.7/site-packages/intake/source/discovery.py:136: FutureWarning: The drivers ['stac-catalog', 'stac-collection', 'stac-item'] do not specify entry_points and were only discovered via a package scan. This may break in a future release of intake. The packages should be updated.\n",
      "  FutureWarning)\n"
     ]
    }
   ],
   "source": [
    "%matplotlib inline\n",
    "\n",
    "import xarray as xr\n",
    "import intake\n",
    "import pandas as pd\n",
    "import numpy as np\n",
    "import matplotlib.pyplot as plt\n",
    "\n",
    "import util"
   ]
  },
  {
   "cell_type": "code",
   "execution_count": 6,
   "metadata": {},
   "outputs": [],
   "source": [
    "def get_zm_gradient_anom(sst,ave_yr):\n",
    "  # ave_yr: specify the number of yrs for running average \n",
    "  \n",
    "   # get regional mean here\n",
    "    WP_mean = util.simple_spatial_average(sst, lat_bounds=[-10, 10], lon_bounds=[120, 180])\n",
    "    EP_mean = util.simple_spatial_average(sst, lat_bounds=[-10, 10], lon_bounds=[220, 280])\n",
    "    trop_mean = 1/2*(WP_mean + EP_mean)\n",
    "    extro_mean = util.simple_spatial_average(sst, lat_bounds=[-60, -40], lon_bounds=[120, 280])\n",
    "   \n",
    "   # define gradient\n",
    "    Tg_z = WP_mean - EP_mean\n",
    "    Tg_m = trop_mean - extro_mean\n",
    "\n",
    "   # running average\n",
    "    Tg_z = Tg_z.rolling(time=12*ave_yr).mean()\n",
    "    Tg_m = Tg_z.rolling(time=12*ave_yr).mean()\n",
    "    \n",
    "    # get anomaly w.r.t\n",
    "    Tg_z_anom = Tg_z - Tg_z.mean()\n",
    "    Tg_m_anom = Tg_m - Tg_m.mean()\n",
    "\n",
    "    return Tg_z_anom, Tg_m_anom"
   ]
  },
  {
   "cell_type": "markdown",
   "metadata": {},
   "source": [
    "### Get info for all models available in NCAR glade, as a reference"
   ]
  },
  {
   "cell_type": "code",
   "execution_count": 7,
   "metadata": {},
   "outputs": [
    {
     "data": {
      "text/plain": [
       "glade-cmip6-ESM Collection with 1115856 entries:\n",
       "\t> 17 activity_id(s)\n",
       "\n",
       "\t> 24 institution_id(s)\n",
       "\n",
       "\t> 48 source_id(s)\n",
       "\n",
       "\t> 82 experiment_id(s)\n",
       "\n",
       "\t> 163 member_id(s)\n",
       "\n",
       "\t> 35 table_id(s)\n",
       "\n",
       "\t> 1029 variable_id(s)\n",
       "\n",
       "\t> 12 grid_label(s)\n",
       "\n",
       "\t> 59 dcpp_init_year(s)\n",
       "\n",
       "\t> 251 version(s)\n",
       "\n",
       "\t> 7799 time_range(s)\n",
       "\n",
       "\t> 1115856 path(s)"
      ]
     },
     "execution_count": 7,
     "metadata": {},
     "output_type": "execute_result"
    }
   ],
   "source": [
    "if util.is_ncar_host():\n",
    "    col = intake.open_esm_datastore(\"../catalogs/glade-cmip6.json\")\n",
    "else:\n",
    "    col = intake.open_esm_datastore(\"../catalogs/pangeo-cmip6.json\")\n",
    "col"
   ]
  },
  {
   "cell_type": "code",
   "execution_count": 8,
   "metadata": {},
   "outputs": [
    {
     "name": "stdout",
     "output_type": "stream",
     "text": [
      "{'experiment_id': {'count': 82,\n",
      "                   'values': ['ssp370', 'histSST-piNTCF', 'histSST',\n",
      "                              'histSST-1950HC', 'hist-1950HC', 'hist-piNTCF',\n",
      "                              'piClim-NTCF', 'ssp370SST-lowNTCF',\n",
      "                              'ssp370-lowNTCF', 'ssp370SST', '1pctCO2-bgc',\n",
      "                              'hist-bgc', 'esm-ssp585', '1pctCO2-cdr',\n",
      "                              'amip-future4K', 'amip-m4K', 'a4SST', 'aqua-p4K',\n",
      "                              'piSST', 'amip-4xCO2', 'a4SSTice', 'amip-p4K',\n",
      "                              'aqua-control', 'aqua-4xCO2', 'abrupt-4xCO2',\n",
      "                              'historical', 'piControl', 'amip', '1pctCO2',\n",
      "                              'esm-hist', 'esm-piControl', 'ssp245', 'ssp585',\n",
      "                              'ssp126', 'hist-GHG', 'hist-aer', 'hist-nat',\n",
      "                              'dcppA-hindcast', 'dcppC-hindcast-noPinatubo',\n",
      "                              'dcppC-hindcast-noElChichon', 'dcppA-assim',\n",
      "                              'dcppC-hindcast-noAgung', 'amip-hist', 'G6solar',\n",
      "                              'G1', 'hist-1950', 'highresSST-present',\n",
      "                              'control-1950', 'land-hist-princeton',\n",
      "                              'land-hist-cruNcep', 'land-hist',\n",
      "                              'deforest-globe', 'esm-ssp585-ssp126Lu',\n",
      "                              'land-cCO2', 'hist-noLu', 'land-crop-noFert',\n",
      "                              'ssp370-ssp126Lu', 'ssp126-ssp370Lu', 'land-noLu',\n",
      "                              'land-noFire', 'land-hist-altStartYear',\n",
      "                              'land-cClim', 'omip1', 'omip2', 'pdSST-piAntSIC',\n",
      "                              'pdSST-futAntSIC', 'pdSST-pdSIC',\n",
      "                              'pdSST-piArcSIC', 'pdSST-futArcSIC', 'lig127k',\n",
      "                              'midHolocene', 'lgm', 'piClim-lu', 'piClim-ghg',\n",
      "                              'piClim-control', 'piClim-anthro', 'piClim-4xCO2',\n",
      "                              'piClim-aer', 'ssp119', 'ssp434', 'ssp460',\n",
      "                              'ssp534-over']},\n",
      " 'source_id': {'count': 48,\n",
      "               'values': ['BCC-ESM1', 'CESM2-WACCM', 'CESM2', 'CNRM-ESM2-1',\n",
      "                          'BCC-CSM2-MR', 'UKESM1-0-LL', 'GFDL-ESM4',\n",
      "                          'GISS-E2-1-G', 'CanESM5', 'CNRM-CM6-1', 'FGOALS-f3-L',\n",
      "                          'FGOALS-g3', 'SAM0-UNICON', 'HadGEM3-GC31-LL',\n",
      "                          'HadGEM3-GC31-MM', 'AWI-CM-1-1-MR', 'GFDL-AM4',\n",
      "                          'GFDL-CM4', 'GISS-E2-1-H', 'E3SM-1-0', 'CAMS-CSM1-0',\n",
      "                          'MCM-UA-1-0', 'EC-Earth3-LR', 'EC-Earth3',\n",
      "                          'EC-Earth3-Veg', 'MRI-ESM2-0', 'NESM3', 'MIROC-ES2L',\n",
      "                          'MIROC6', 'IPSL-CM6A-LR', 'NorCPM1', 'NorESM2-LM',\n",
      "                          'FIO-ESM-2-0', 'MPI-ESM1-2-HR', 'CESM1-1-CAM5-CMIP5',\n",
      "                          'CNRM-CM6-1-HR', 'FGOALS-f3-H', 'HadGEM3-GC31-HM',\n",
      "                          'HadGEM3-GC31-LM', 'GFDL-CM4C192', 'ECMWF-IFS-LR',\n",
      "                          'ECMWF-IFS-HR', 'CMCC-CM2-VHR4', 'CMCC-CM2-HR4',\n",
      "                          'NICAM16-7S', 'NICAM16-8S', 'NICAM16-9S',\n",
      "                          'IPSL-CM6A-ATM-HR']},\n",
      " 'table_id': {'count': 35,\n",
      "              'values': ['day', 'Amon', 'AERmonZ', 'CFmon', 'EdayZ', 'Eday',\n",
      "                         'CFday', 'EmonZ', 'AERday', 'Emon', 'fx', 'Lmon',\n",
      "                         'AERmon', 'Ofx', 'Omon', 'SImon', 'Oyr', 'AERhr',\n",
      "                         'Eyr', 'LImon', 'SIday', '6hrPlev', 'CFsubhr',\n",
      "                         '6hrLev', 'Oday', 'ImonGre', 'ImonAnt', 'Efx',\n",
      "                         'IfxGre', '3hr', '6hrPlevPt', 'E1hr', 'E3hr', 'Oclim',\n",
      "                         'CF3hr']}}\n"
     ]
    }
   ],
   "source": [
    "# print out the names of all experiments/models/tables\n",
    "import pprint \n",
    "uni_dict = col.unique(['source_id', 'experiment_id', 'table_id'])\n",
    "pprint.pprint(uni_dict, compact=True)"
   ]
  },
  {
   "cell_type": "markdown",
   "metadata": {},
   "source": [
    "## Pick out models that have target variables \n",
    "- ts: surface temperature (Amon)\n",
    "- sftlf: land area fraction (fx)"
   ]
  },
  {
   "cell_type": "code",
   "execution_count": 9,
   "metadata": {},
   "outputs": [
    {
     "name": "stdout",
     "output_type": "stream",
     "text": [
      "26  models\n"
     ]
    },
    {
     "data": {
      "text/plain": [
       "['CanESM5',\n",
       " 'MCM-UA-1-0',\n",
       " 'CNRM-CM6-1',\n",
       " 'FGOALS-g3',\n",
       " 'CNRM-ESM2-1',\n",
       " 'EC-Earth3',\n",
       " 'UKESM1-0-LL',\n",
       " 'CAMS-CSM1-0',\n",
       " 'E3SM-1-0',\n",
       " 'GFDL-CM4',\n",
       " 'HadGEM3-GC31-LL',\n",
       " 'MIROC-ES2L',\n",
       " 'GISS-E2-1-H',\n",
       " 'MIROC6',\n",
       " 'BCC-ESM1',\n",
       " 'SAM0-UNICON',\n",
       " 'MRI-ESM2-0',\n",
       " 'IPSL-CM6A-LR',\n",
       " 'GISS-E2-1-G',\n",
       " 'GFDL-ESM4',\n",
       " 'CESM2',\n",
       " 'BCC-CSM2-MR',\n",
       " 'EC-Earth3-Veg',\n",
       " 'NESM3',\n",
       " 'NorESM2-LM',\n",
       " 'CESM2-WACCM']"
      ]
     },
     "execution_count": 9,
     "metadata": {},
     "output_type": "execute_result"
    }
   ],
   "source": [
    "models = set(uni_dict['source_id']['values']) # all the models\n",
    "\n",
    "for experiment_id in ['historical']:\n",
    "    query = dict(experiment_id=experiment_id, table_id='Amon', \n",
    "                 variable_id=['ts','sftlf'])  \n",
    "    cat = col.search(**query)\n",
    "    models = models.intersection({model for model in cat.df.source_id.unique().tolist()})\n",
    "\n",
    "# to eliminate some models\n",
    "#models = models - {'CESM2-WACCM', 'CESM2'}\n",
    "\n",
    "models = list(models)\n",
    "print(len(models),' models')\n",
    "models"
   ]
  },
  {
   "cell_type": "markdown",
   "metadata": {},
   "source": [
    "## read historical ts from one model one ensemble "
   ]
  },
  {
   "cell_type": "code",
   "execution_count": 10,
   "metadata": {},
   "outputs": [],
   "source": [
    "model_x = 'CESM2'\n",
    "member_x='r1i1p1f1'\n",
    "experiment_x = 'historical'"
   ]
  },
  {
   "cell_type": "markdown",
   "metadata": {},
   "source": [
    "#### first get land-sea mask"
   ]
  },
  {
   "cell_type": "code",
   "execution_count": 11,
   "metadata": {},
   "outputs": [
    {
     "data": {
      "text/html": [
       "<div>\n",
       "<style scoped>\n",
       "    .dataframe tbody tr th:only-of-type {\n",
       "        vertical-align: middle;\n",
       "    }\n",
       "\n",
       "    .dataframe tbody tr th {\n",
       "        vertical-align: top;\n",
       "    }\n",
       "\n",
       "    .dataframe thead th {\n",
       "        text-align: right;\n",
       "    }\n",
       "</style>\n",
       "<table border=\"1\" class=\"dataframe\">\n",
       "  <thead>\n",
       "    <tr style=\"text-align: right;\">\n",
       "      <th></th>\n",
       "      <th>activity_id</th>\n",
       "      <th>institution_id</th>\n",
       "      <th>source_id</th>\n",
       "      <th>experiment_id</th>\n",
       "      <th>member_id</th>\n",
       "      <th>table_id</th>\n",
       "      <th>variable_id</th>\n",
       "      <th>grid_label</th>\n",
       "      <th>dcpp_init_year</th>\n",
       "      <th>version</th>\n",
       "      <th>time_range</th>\n",
       "      <th>path</th>\n",
       "    </tr>\n",
       "  </thead>\n",
       "  <tbody>\n",
       "    <tr>\n",
       "      <td>98822</td>\n",
       "      <td>CMIP</td>\n",
       "      <td>NCAR</td>\n",
       "      <td>CESM2</td>\n",
       "      <td>historical</td>\n",
       "      <td>r1i1p1f1</td>\n",
       "      <td>fx</td>\n",
       "      <td>sftlf</td>\n",
       "      <td>gn</td>\n",
       "      <td>NaN</td>\n",
       "      <td>v20190308</td>\n",
       "      <td>NaN</td>\n",
       "      <td>/glade/collections/cmip/CMIP6/CMIP/NCAR/CESM2/...</td>\n",
       "    </tr>\n",
       "  </tbody>\n",
       "</table>\n",
       "</div>"
      ],
      "text/plain": [
       "      activity_id institution_id source_id experiment_id member_id table_id  \\\n",
       "98822        CMIP           NCAR     CESM2    historical  r1i1p1f1       fx   \n",
       "\n",
       "      variable_id grid_label  dcpp_init_year    version time_range  \\\n",
       "98822       sftlf         gn             NaN  v20190308        NaN   \n",
       "\n",
       "                                                    path  \n",
       "98822  /glade/collections/cmip/CMIP6/CMIP/NCAR/CESM2/...  "
      ]
     },
     "execution_count": 11,
     "metadata": {},
     "output_type": "execute_result"
    }
   ],
   "source": [
    "# land-sea mask\n",
    "cat_fx = col.search(experiment_id=experiment_x, member_id = member_x,source_id=model_x, variable_id='sftlf', table_id='fx', grid_label='gn')\n",
    "cat_fx.df"
   ]
  },
  {
   "cell_type": "code",
   "execution_count": 12,
   "metadata": {},
   "outputs": [
    {
     "name": "stdout",
     "output_type": "stream",
     "text": [
      "\n",
      "xarray will load netCDF datasets with dask using a single chunk for all arrays.\n",
      "For effective chunking, please provide chunks in cdf_kwargs.\n",
      "For example: cdf_kwargs={'chunks': {'time': 36}}\n",
      "\n",
      "--> The keys in the returned dictionary of datasets are constructed as follows:\n",
      "\t'activity_id.institution_id.source_id.experiment_id.table_id.grid_label'\n",
      "\n",
      "--> There will be 1 group(s)\n"
     ]
    },
    {
     "name": "stderr",
     "output_type": "stream",
     "text": [
      "/ncar/usr/jupyterhub/envs/cmip6-201910a/lib/python3.7/site-packages/xarray/conventions.py:494: SerializationWarning: variable 'sftlf' has multiple fill values {1e+20, 1e+20}, decoding all values to NaN.\n",
      "  use_cftime=use_cftime,\n"
     ]
    },
    {
     "data": {
      "text/plain": [
       "dict_keys(['CMIP.NCAR.CESM2.historical.fx.gn'])"
      ]
     },
     "execution_count": 12,
     "metadata": {},
     "output_type": "execute_result"
    }
   ],
   "source": [
    "dset_dict_fx = cat_fx.to_dataset_dict(zarr_kwargs={'consolidated': True, 'decode_times': True}, \n",
    "                                cdf_kwargs={'chunks': {}, 'decode_times': True})\n",
    "dset_dict_fx.keys()\n"
   ]
  },
  {
   "cell_type": "code",
   "execution_count": 13,
   "metadata": {},
   "outputs": [],
   "source": [
    "if len(dset_dict_fx.keys()) == 1: \n",
    "    for key in dset_dict_fx.keys():\n",
    "        da_fx = dset_dict_fx[key]\n",
    "\n",
    "#da_fx = dset_dict_fx['ScenarioMIP.MIROC.MIROC6.ssp585.fx.gn']"
   ]
  },
  {
   "cell_type": "code",
   "execution_count": null,
   "metadata": {},
   "outputs": [],
   "source": []
  },
  {
   "cell_type": "markdown",
   "metadata": {},
   "source": [
    "#### then ready to read [ts]"
   ]
  },
  {
   "cell_type": "code",
   "execution_count": 14,
   "metadata": {},
   "outputs": [
    {
     "data": {
      "text/html": [
       "<div>\n",
       "<style scoped>\n",
       "    .dataframe tbody tr th:only-of-type {\n",
       "        vertical-align: middle;\n",
       "    }\n",
       "\n",
       "    .dataframe tbody tr th {\n",
       "        vertical-align: top;\n",
       "    }\n",
       "\n",
       "    .dataframe thead th {\n",
       "        text-align: right;\n",
       "    }\n",
       "</style>\n",
       "<table border=\"1\" class=\"dataframe\">\n",
       "  <thead>\n",
       "    <tr style=\"text-align: right;\">\n",
       "      <th></th>\n",
       "      <th>activity_id</th>\n",
       "      <th>institution_id</th>\n",
       "      <th>source_id</th>\n",
       "      <th>experiment_id</th>\n",
       "      <th>member_id</th>\n",
       "      <th>table_id</th>\n",
       "      <th>variable_id</th>\n",
       "      <th>grid_label</th>\n",
       "      <th>dcpp_init_year</th>\n",
       "      <th>version</th>\n",
       "      <th>time_range</th>\n",
       "      <th>path</th>\n",
       "    </tr>\n",
       "  </thead>\n",
       "  <tbody>\n",
       "    <tr>\n",
       "      <td>98982</td>\n",
       "      <td>CMIP</td>\n",
       "      <td>NCAR</td>\n",
       "      <td>CESM2</td>\n",
       "      <td>historical</td>\n",
       "      <td>r1i1p1f1</td>\n",
       "      <td>Amon</td>\n",
       "      <td>ts</td>\n",
       "      <td>gn</td>\n",
       "      <td>NaN</td>\n",
       "      <td>v20190308</td>\n",
       "      <td>185001-201412</td>\n",
       "      <td>/glade/collections/cmip/CMIP6/CMIP/NCAR/CESM2/...</td>\n",
       "    </tr>\n",
       "  </tbody>\n",
       "</table>\n",
       "</div>"
      ],
      "text/plain": [
       "      activity_id institution_id source_id experiment_id member_id table_id  \\\n",
       "98982        CMIP           NCAR     CESM2    historical  r1i1p1f1     Amon   \n",
       "\n",
       "      variable_id grid_label  dcpp_init_year    version     time_range  \\\n",
       "98982          ts         gn             NaN  v20190308  185001-201412   \n",
       "\n",
       "                                                    path  \n",
       "98982  /glade/collections/cmip/CMIP6/CMIP/NCAR/CESM2/...  "
      ]
     },
     "execution_count": 14,
     "metadata": {},
     "output_type": "execute_result"
    }
   ],
   "source": [
    "table_x = ['Amon']\n",
    "variable_x = ['ts']\n",
    "\n",
    "cat = col.search(experiment_id=experiment_x, \n",
    "                 table_id= table_x , \n",
    "                 member_id=member_x,\n",
    "                 variable_id=variable_x, \n",
    "                 source_id=model_x) #time_range = '185001-201412'\n",
    "cat.df"
   ]
  },
  {
   "cell_type": "code",
   "execution_count": 99,
   "metadata": {},
   "outputs": [
    {
     "data": {
      "text/plain": [
       "array(['r2i1p1f1', 'r5i1p1f1', 'r1i1p1f1', 'r4i1p1f1', 'r3i1p1f1',\n",
       "       'r9i1p1f1', 'r8i1p1f1', 'r10i1p1f1', 'r7i1p1f1', 'r6i1p1f1'],\n",
       "      dtype=object)"
      ]
     },
     "execution_count": 99,
     "metadata": {},
     "output_type": "execute_result"
    }
   ],
   "source": [
    "# if go for all ensembels, check here, if not, skipp\n",
    "en_dict = cat.df.member_id.unique()\n",
    "en_dict"
   ]
  },
  {
   "cell_type": "code",
   "execution_count": 15,
   "metadata": {},
   "outputs": [
    {
     "name": "stdout",
     "output_type": "stream",
     "text": [
      "\n",
      "xarray will load netCDF datasets with dask using a single chunk for all arrays.\n",
      "For effective chunking, please provide chunks in cdf_kwargs.\n",
      "For example: cdf_kwargs={'chunks': {'time': 36}}\n",
      "\n",
      "--> The keys in the returned dictionary of datasets are constructed as follows:\n",
      "\t'activity_id.institution_id.source_id.experiment_id.table_id.grid_label'\n",
      "\n",
      "--> There will be 1 group(s)\n"
     ]
    },
    {
     "name": "stderr",
     "output_type": "stream",
     "text": [
      "/ncar/usr/jupyterhub/envs/cmip6-201910a/lib/python3.7/site-packages/xarray/conventions.py:494: SerializationWarning: variable 'ts' has multiple fill values {1e+20, 1e+20}, decoding all values to NaN.\n",
      "  use_cftime=use_cftime,\n"
     ]
    }
   ],
   "source": [
    "# read in as dataset structure \n",
    "dset_dict = cat.to_dataset_dict(zarr_kwargs={'consolidated': True, 'decode_times': True}, \n",
    "                                cdf_kwargs={'chunks': {}, 'decode_times': True})"
   ]
  },
  {
   "cell_type": "code",
   "execution_count": 16,
   "metadata": {},
   "outputs": [
    {
     "data": {
      "text/plain": [
       "dict_keys(['CMIP.NCAR.CESM2.historical.Amon.gn'])"
      ]
     },
     "execution_count": 16,
     "metadata": {},
     "output_type": "execute_result"
    }
   ],
   "source": [
    "dset_dict.keys()"
   ]
  },
  {
   "cell_type": "code",
   "execution_count": 17,
   "metadata": {},
   "outputs": [],
   "source": [
    "if len(dset_dict.keys()) == 1: \n",
    "    for key in dset_dict.keys():\n",
    "        da_ts = dset_dict[key]\n",
    "\n",
    "#da_ts = dset_dict['ScenarioMIP.MIROC.MIROC6.ssp585.Amon.gn']"
   ]
  },
  {
   "cell_type": "code",
   "execution_count": 18,
   "metadata": {},
   "outputs": [],
   "source": [
    "# #*** if 'decode_times': False ****\n",
    "# assign new time accordinates to date\n",
    "\n",
    "# import datetime\n",
    "# def get_initial_date(t0):\n",
    "#     new_date = datetime.datetime(1,1,1,0,0) + datetime.timedelta(t0 - 1)\n",
    "#     return new_date.strftime(\"%Y-%m-%d\")\n",
    "\n",
    "# date0 = get_initial_date(da_ts.time[0].values)\n",
    "# times = pd.date_range(date0, periods=len(da_ts.time), freq='MS')\n",
    "# da_sst = da_ts.assign_coords(time = times)\n",
    "\n",
    "\n",
    "# #*** if 'decode_times': True ***\n",
    "da_sst = da_ts\n"
   ]
  },
  {
   "cell_type": "code",
   "execution_count": 19,
   "metadata": {},
   "outputs": [
    {
     "data": {
      "text/plain": [
       "<xarray.Dataset>\n",
       "Dimensions:    (lat: 192, lon: 288, member_id: 1, nbnd: 2, time: 1980)\n",
       "Coordinates:\n",
       "  * member_id  (member_id) <U8 'r1i1p1f1'\n",
       "  * lat        (lat) float64 -90.0 -89.06 -88.12 -87.17 ... 88.12 89.06 90.0\n",
       "  * lon        (lon) float64 0.0 1.25 2.5 3.75 5.0 ... 355.0 356.2 357.5 358.8\n",
       "  * time       (time) object 1850-01-15 12:00:00 ... 2014-12-15 12:00:00\n",
       "Dimensions without coordinates: nbnd\n",
       "Data variables:\n",
       "    lat_bnds   (lat, nbnd) float32 dask.array<chunksize=(192, 2), meta=np.ndarray>\n",
       "    lon_bnds   (lon, nbnd) float32 dask.array<chunksize=(288, 2), meta=np.ndarray>\n",
       "    time_bnds  (time, nbnd) object dask.array<chunksize=(1980, 2), meta=np.ndarray>\n",
       "    ts         (member_id, time, lat, lon) float32 dask.array<chunksize=(1, 1980, 192, 288), meta=np.ndarray>\n",
       "Attributes:\n",
       "    Conventions:            CF-1.7 CMIP-6.2\n",
       "    activity_id:            CMIP\n",
       "    case_id:                15\n",
       "    cesm_casename:          b.e21.BHIST.f09_g17.CMIP6-historical.001\n",
       "    contact:                cesm_cmip6@ucar.edu\n",
       "    creation_date:          2019-01-16T21:40:35Z\n",
       "    data_specs_version:     01.00.29\n",
       "    experiment:             all-forcing simulation of the recent past\n",
       "    experiment_id:          historical\n",
       "    external_variables:     areacella\n",
       "    forcing_index:          1\n",
       "    frequency:              mon\n",
       "    grid:                   native 0.9x1.25 finite volume grid (192x288 latxlon)\n",
       "    grid_label:             gn\n",
       "    initialization_index:   1\n",
       "    institution:            National Center for Atmospheric Research, Climate...\n",
       "    institution_id:         NCAR\n",
       "    license:                CMIP6 model data produced by <The National Center...\n",
       "    mip_era:                CMIP6\n",
       "    model_doi_url:          https://doi.org/10.5065/D67H1H0V\n",
       "    nominal_resolution:     100 km\n",
       "    parent_activity_id:     CMIP\n",
       "    parent_experiment_id:   piControl\n",
       "    parent_mip_era:         CMIP6\n",
       "    parent_source_id:       CESM2\n",
       "    parent_time_units:      days since 0001-01-01 00:00:00\n",
       "    parent_variant_label:   r1i1p1f1\n",
       "    physics_index:          1\n",
       "    product:                model-output\n",
       "    realization_index:      1\n",
       "    realm:                  atmos\n",
       "    source:                 CESM2 (2017): atmosphere: CAM6 (0.9x1.25 finite v...\n",
       "    source_id:              CESM2\n",
       "    source_type:            AOGCM BGC\n",
       "    table_id:               Amon\n",
       "    tracking_id:            hdl:21.14100/d75a1ee4-460c-4509-bedd-f65890041402\n",
       "    variable_id:            ts\n",
       "    variant_info:           CMIP6 20th century experiments (1850-2014) with C...\n",
       "    variant_label:          r1i1p1f1\n",
       "    sub_experiment:         none\n",
       "    sub_experiment_id:      none\n",
       "    branch_time_in_parent:  219000.0\n",
       "    branch_time_in_child:   674885.0\n",
       "    branch_method:          standard\n",
       "    further_info_url:       https://furtherinfo.es-doc.org/CMIP6.NCAR.CESM2.h..."
      ]
     },
     "execution_count": 19,
     "metadata": {},
     "output_type": "execute_result"
    }
   ],
   "source": [
    "da_sst"
   ]
  },
  {
   "cell_type": "code",
   "execution_count": 155,
   "metadata": {},
   "outputs": [],
   "source": [
    "# if da_sst (Dataset) has member_id > 1 (multi ensembles)\n",
    "#  --- get ensemble-mean here\n",
    "\n",
    "da_sst = da_sst.mean(dim = 'member_id')"
   ]
  },
  {
   "cell_type": "code",
   "execution_count": 20,
   "metadata": {},
   "outputs": [],
   "source": [
    "# take out ocean TS as SST, and convert to deg C\n",
    "\n",
    "sst = da_sst.ts.where(da_fx.sftlf== 0)-273.15\n",
    "#sst = da_sst.ts-273.15"
   ]
  },
  {
   "cell_type": "code",
   "execution_count": 22,
   "metadata": {},
   "outputs": [
    {
     "data": {
      "text/plain": [
       "<matplotlib.collections.QuadMesh at 0x2aaf4a146518>"
      ]
     },
     "execution_count": 22,
     "metadata": {},
     "output_type": "execute_result"
    },
    {
     "data": {
      "image/png": "[encoded data removed]",
      "text/plain": [
       "<Figure size 432x288 with 2 Axes>"
      ]
     },
     "metadata": {
      "needs_background": "light"
     },
     "output_type": "display_data"
    }
   ],
   "source": [
    "# make sure the land-sea mask works\n",
    "sst.isel(time=0).plot()"
   ]
  },
  {
   "cell_type": "code",
   "execution_count": 116,
   "metadata": {},
   "outputs": [
    {
     "data": {
      "text/plain": [
       "<xarray.DataArray 'ts' (time: 1980, lat: 128, lon: 256, member_id: 1)>\n",
       "dask.array<sub, shape=(1980, 128, 256, 1), dtype=float32, chunksize=(1200, 128, 256, 1), chunktype=numpy.ndarray>\n",
       "Coordinates:\n",
       "  * lon        (lon) float64 0.0 1.406 2.812 4.219 ... 354.4 355.8 357.2 358.6\n",
       "  * lat        (lat) float64 -88.93 -87.54 -86.14 -84.74 ... 86.14 87.54 88.93\n",
       "  * time       (time) datetime64[ns] 1850-01-16T12:00:00 ... 2014-12-16T12:00:00\n",
       "  * member_id  (member_id) <U8 'r1i1p1f1'"
      ]
     },
     "execution_count": 116,
     "metadata": {},
     "output_type": "execute_result"
    }
   ],
   "source": [
    "sst"
   ]
  },
  {
   "cell_type": "code",
   "execution_count": 44,
   "metadata": {},
   "outputs": [],
   "source": [
    "#sst"
   ]
  },
  {
   "cell_type": "markdown",
   "metadata": {},
   "source": [
    "### Ready to move to regional averages"
   ]
  },
  {
   "cell_type": "code",
   "execution_count": 23,
   "metadata": {},
   "outputs": [
    {
     "data": {
      "text/plain": [
       "<matplotlib.collections.QuadMesh at 0x2aaf55f97da0>"
      ]
     },
     "execution_count": 23,
     "metadata": {},
     "output_type": "execute_result"
    },
    {
     "data": {
      "image/png": "[encoded data removed]",
      "text/plain": [
       "<Figure size 432x288 with 2 Axes>"
      ]
     },
     "metadata": {
      "needs_background": "light"
     },
     "output_type": "display_data"
    }
   ],
   "source": [
    "# plot to see the box selected\n",
    "\n",
    "#sst.isel(time = 0).sel(lat=slice(-20, 20),lon=slice(100, 120)).plot()\n",
    "lat = sst.lat\n",
    "lon = sst.lon\n",
    "\n",
    "# fig, axes = plt.subplots(ncols=3,figsize= (14,5))\n",
    "# sst.isel(time = 0).where((lat>=-10) & (lat<=10) & (lon>=120) & (lon<=180)).plot(ax=axes[0])\n",
    "# sst.isel(time = 0).where((lat>=-10) & (lat<=10) & (lon>=220) & (lon<=280)).plot(ax=axes[1])\n",
    "# sst.isel(time = 0).where((lat>=-60) & (lat<=-40) & (lon>=120) & (lon<=280)).plot(ax=axes[2])\n",
    "\n",
    "# one axis with three plots\n",
    "# sst.isel(time = 0).where((lat>=-10) & (lat<=10) & (lon>=120) & (lon<=180)).plot()\n",
    "# sst.isel(time = 0).where((lat>=-10) & (lat<=10) & (lon>=220) & (lon<=280)).plot()\n",
    "# sst.isel(time = 0).where((lat>=-60) & (lat<=-40) & (lon>=120) & (lon<=280)).plot()\n",
    "\n",
    "wp = (lat>=-10) & (lat<=10) & (lon>=120) & (lon<=180)\n",
    "ep = (lat>=-10) & (lat<=10) & (lon>=220) & (lon<=280)\n",
    "so = (lat>=-60) & (lat<=-40) & (lon>=120) & (lon<=280)\n",
    "\n",
    "sst.isel(time = 0).where(wp | ep | so).plot()"
   ]
  },
  {
   "cell_type": "code",
   "execution_count": 159,
   "metadata": {},
   "outputs": [
    {
     "name": "stderr",
     "output_type": "stream",
     "text": [
      "/ncar/usr/jupyterhub/envs/cmip6-201910a/lib/python3.7/site-packages/xarray/core/nanops.py:140: RuntimeWarning: Mean of empty slice\n",
      "  return np.nanmean(a, axis=axis, dtype=dtype)\n"
     ]
    }
   ],
   "source": [
    "# get regional mean here\n",
    "WP_mean = util.simple_spatial_average(sst, lat_bounds=[-10, 10], lon_bounds=[120, 180])\n",
    "EP_mean = util.simple_spatial_average(sst, lat_bounds=[-10, 10], lon_bounds=[220, 280])\n",
    "trop_mean = 1/2*(WP_mean + EP_mean)\n",
    "extro_mean = util.simple_spatial_average(sst, lat_bounds=[-60, -40], lon_bounds=[120, 280])\n",
    "\n",
    "# define gradient\n",
    "Tg_z = WP_mean - EP_mean\n",
    "Tg_m = trop_mean - extro_mean\n",
    "\n",
    "# running average\n",
    "Tg_z = Tg_z.rolling(time=12*5).mean()\n",
    "Tg_m = Tg_z.rolling(time=12*5).mean()\n",
    "\n",
    "# get anomaly w.r.t\n",
    "Tg_z_anom = Tg_z - Tg_z.mean()\n",
    "Tg_m_anom = Tg_m - Tg_m.mean()\n",
    "\n"
   ]
  },
  {
   "cell_type": "code",
   "execution_count": 141,
   "metadata": {},
   "outputs": [],
   "source": []
  },
  {
   "cell_type": "code",
   "execution_count": 24,
   "metadata": {},
   "outputs": [
    {
     "name": "stderr",
     "output_type": "stream",
     "text": [
      "/ncar/usr/jupyterhub/envs/cmip6-201910a/lib/python3.7/site-packages/xarray/core/nanops.py:140: RuntimeWarning: Mean of empty slice\n",
      "  return np.nanmean(a, axis=axis, dtype=dtype)\n"
     ]
    }
   ],
   "source": [
    "Tg_z_anom,Tg_m_anom = get_zm_gradient_anom(sst,5)"
   ]
  },
  {
   "cell_type": "code",
   "execution_count": 25,
   "metadata": {},
   "outputs": [
    {
     "data": {
      "text/plain": [
       "[<matplotlib.lines.Line2D at 0x2ab08da9d2e8>]"
      ]
     },
     "execution_count": 25,
     "metadata": {},
     "output_type": "execute_result"
    },
    {
     "data": {
      "image/png": "[encoded data removed]",
      "text/plain": [
       "<Figure size 432x288 with 1 Axes>"
      ]
     },
     "metadata": {
      "needs_background": "light"
     },
     "output_type": "display_data"
    }
   ],
   "source": [
    "\n",
    "Tg_z_anom.plot()\n",
    "Tg_m_anom.plot()"
   ]
  },
  {
   "cell_type": "code",
   "execution_count": 125,
   "metadata": {},
   "outputs": [
    {
     "data": {
      "text/plain": [
       "<xarray.DataArray (time: 1980, member_id: 1)>\n",
       "dask.array<sub, shape=(1980, 1), dtype=float64, chunksize=(1200, 1), chunktype=numpy.ndarray>\n",
       "Coordinates:\n",
       "  * time       (time) datetime64[ns] 1850-01-16T12:00:00 ... 2014-12-16T12:00:00\n",
       "  * member_id  (member_id) <U8 'r1i1p1f1'"
      ]
     },
     "execution_count": 125,
     "metadata": {},
     "output_type": "execute_result"
    }
   ],
   "source": [
    "Tg_z_anom"
   ]
  },
  {
   "cell_type": "code",
   "execution_count": 126,
   "metadata": {},
   "outputs": [
    {
     "data": {
      "text/plain": [
       "<xarray.DataArray (time: 1980, member_id: 1)>\n",
       "dask.array<sub, shape=(1980, 1), dtype=float64, chunksize=(1200, 1), chunktype=numpy.ndarray>\n",
       "Coordinates:\n",
       "  * time       (time) datetime64[ns] 1850-01-16T12:00:00 ... 2014-12-16T12:00:00\n",
       "  * member_id  (member_id) <U8 'r1i1p1f1'"
      ]
     },
     "execution_count": 126,
     "metadata": {},
     "output_type": "execute_result"
    }
   ],
   "source": [
    "Tg_m_anom"
   ]
  },
  {
   "cell_type": "code",
   "execution_count": null,
   "metadata": {},
   "outputs": [],
   "source": []
  },
  {
   "cell_type": "code",
   "execution_count": null,
   "metadata": {},
   "outputs": [],
   "source": []
  }
 ],
 "metadata": {
  "kernelspec": {
   "display_name": "CMIP6 2019.10a",
   "language": "python",
   "name": "cmip6-201910a"
  },
  "language_info": {
   "codemirror_mode": {
    "name": "ipython",
    "version": 3
   },
   "file_extension": ".py",
   "mimetype": "text/x-python",
   "name": "python",
   "nbconvert_exporter": "python",
   "pygments_lexer": "ipython3",
   "version": "3.7.3"
  }
 },
 "nbformat": 4,
 "nbformat_minor": 4
}
